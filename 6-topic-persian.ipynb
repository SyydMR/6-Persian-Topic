{
 "cells": [
  {
   "cell_type": "code",
   "execution_count": 1,
   "metadata": {},
   "outputs": [],
   "source": [
    "import os\n",
    "os.environ['TF_CPP_MIN_LOG_LEVEL'] = '20'"
   ]
  },
  {
   "cell_type": "code",
   "execution_count": 2,
   "metadata": {
    "id": "8RZOuS9LWQvv"
   },
   "outputs": [],
   "source": [
    "import numpy as np\n",
    "import tensorflow as tf\n",
    "import matplotlib.pyplot as plt\n",
    "from sklearn.model_selection import train_test_split\n",
    "from keras import layers\n",
    "from keras.layers import Dense, GlobalAveragePooling1D, Embedding, Dropout\n",
    "from keras.models import Sequential\n",
    "from keras.losses import CategoricalCrossentropy, CategoricalFocalCrossentropy\n",
    "from keras.metrics import Precision, Recall, CategoricalAccuracy, F1Score, TruePositives, TrueNegatives, FalseNegatives, FalsePositives\n",
    "from keras.optimizers import Adam\n",
    "from keras.preprocessing.sequence import pad_sequences"
   ]
  },
  {
   "cell_type": "code",
   "execution_count": 3,
   "metadata": {
    "colab": {
     "base_uri": "https://localhost:8080/"
    },
    "id": "355CfOvsV1pl",
    "outputId": "eade45fc-9178-42ef-81aa-a58d1ae1dab2"
   },
   "outputs": [],
   "source": [
    "url = \"https://github.com/Alireza-Akhavan/text-classification/raw/main/6-persian-topics.zip\"\n",
    "dataset = tf.keras.utils.get_file(\"6-persian-topics.zip\", url,\n",
    "                                    extract=True, cache_dir='.',\n",
    "                                    cache_subdir='')\n",
    "dataset_dir = os.path.join(os.path.dirname(dataset), '6-persian-topics')\n"
   ]
  },
  {
   "cell_type": "code",
   "execution_count": 4,
   "metadata": {},
   "outputs": [],
   "source": [
    "ry = []\n",
    "ryazi = os.path.join(dataset_dir, 'ریاضیات/')\n",
    "for r in os.listdir(ryazi):\n",
    "    ry.append(os.path.join(dataset_dir, 'ریاضیات/', r))\n",
    "beh = []\n",
    "behdasht = os.path.join(dataset_dir, 'بهداشت و سلامت/')\n",
    "for r in os.listdir(behdasht):\n",
    "    beh.append(os.path.join(dataset_dir, 'بهداشت و سلامت/', r))\n",
    "jog = []\n",
    "joghrafia = os.path.join(dataset_dir, 'جغرافیا و مکانها/')\n",
    "for r in os.listdir(joghrafia):\n",
    "    jog.append(os.path.join(dataset_dir, 'جغرافیا و مکانها/', r))\n",
    "fan = []\n",
    "fanavari = os.path.join(dataset_dir, 'فناوری و علوم کاربردی و تکنولوژی/')\n",
    "for r in os.listdir(fanavari):\n",
    "    fan.append(os.path.join(dataset_dir, 'فناوری و علوم کاربردی و تکنولوژی/', r))\n",
    "var = []\n",
    "varzesh = os.path.join(dataset_dir, 'ورزش/')\n",
    "for r in os.listdir(varzesh):\n",
    "    var.append(os.path.join(dataset_dir, 'ورزش/', r))\n",
    "di = []\n",
    "din = os.path.join(dataset_dir, 'دین و اعتقاد/')\n",
    "for r in os.listdir(din):\n",
    "    di.append(os.path.join(dataset_dir, 'دین و اعتقاد/', r))\n",
    "ry.extend(beh)\n",
    "ry.extend(jog)\n",
    "ry.extend(fan)\n",
    "ry.extend(var)\n",
    "ry.extend(di)\n",
    "\n",
    "for i in ry:\n",
    "    file = open(i, 'r')\n",
    "    content = file.read()\n",
    "    if len(content.split(' ')) <= 5:\n",
    "        os.remove(i)\n",
    "    file.close()"
   ]
  },
  {
   "cell_type": "code",
   "execution_count": 5,
   "metadata": {
    "colab": {
     "base_uri": "https://localhost:8080/"
    },
    "id": "R7g8hFvzWLIZ",
    "outputId": "b700f4a8-af11-4b96-baa9-5ce5d40cfb05"
   },
   "outputs": [],
   "source": [
    "classes = os.listdir(dataset_dir)\n",
    "dataset = []\n",
    "labels = []\n",
    "for c in classes:\n",
    "    files = os.listdir(os.path.join(dataset_dir, c))\n",
    "    for f in files:\n",
    "        file_path = os.path.join(os.path.join(dataset_dir, c), f)\n",
    "        dataset.append(file_path)\n",
    "        labels.append(classes.index(c))\n",
    "\n",
    "\n",
    "train_data, valid_data, train_target, valid_target = train_test_split(dataset, labels, test_size=0.2)\n",
    "\n"
   ]
  },
  {
   "cell_type": "code",
   "execution_count": 6,
   "metadata": {
    "colab": {
     "base_uri": "https://localhost:8080/"
    },
    "id": "nOrK-MTYaw3C",
    "outputId": "4f997f47-fcb9-4b38-dfe4-566bb7ae9640"
   },
   "outputs": [],
   "source": [
    "def custom_standardization(input_data):\n",
    "    lowercase = tf.strings.lower(input_data)\n",
    "    stripped_html = tf.strings.regex_replace(lowercase, '<br />', ' ')\n",
    "    stripped_ye = tf.strings.regex_replace(stripped_html, 'ي', 'ی')\n",
    "    stripped_camma = tf.strings.regex_replace(stripped_ye, '،', ' ')\n",
    "    stripped_colon = tf.strings.regex_replace(stripped_camma, ':', ' ')\n",
    "    stripped_he = tf.strings.regex_replace(stripped_colon, 'هٔ', 'ه')\n",
    "    stripped_ke = tf.strings.regex_replace(stripped_he, 'ك', 'ک')\n",
    "    stripped_alef = tf.strings.regex_replace(stripped_ke, 'آ', 'ا')\n",
    "    stripped_english = tf.strings.regex_replace(stripped_alef, '[a-zA-Z]', ' ')\n",
    "    return tf.strings.regex_replace(stripped_english, '[%s]' % re.escape(string.punctuation), '')\n"
   ]
  },
  {
   "cell_type": "code",
   "execution_count": 7,
   "metadata": {
    "colab": {
     "base_uri": "https://localhost:8080/"
    },
    "id": "51wNaPPApk1K",
    "outputId": "6df34ab7-a3cc-474d-9ff7-1fa23ed4399a"
   },
   "outputs": [],
   "source": [
    "max_feature = 20000\n",
    "vectorize_layer = layers.TextVectorization(\n",
    "    max_tokens=max_feature,\n",
    "    standardize=custom_standardization,\n",
    "    output_sequence_length=250)"
   ]
  },
  {
   "cell_type": "code",
   "execution_count": 8,
   "metadata": {
    "colab": {
     "base_uri": "https://localhost:8080/"
    },
    "id": "MlICTG8spyO2",
    "outputId": "3c828465-8702-4a27-8b37-7bc173493aa1"
   },
   "outputs": [],
   "source": [
    "import re\n",
    "import string\n",
    "\n",
    "AUTOTUNE = tf.data.experimental.AUTOTUNE\n",
    "BUFFER_SIZE = 10000\n",
    "BATCH_SIZE = 64\n",
    "\n",
    "def get_text_with_target(path, target):\n",
    "    target = tf.one_hot(target, depth=6, dtype='float32')\n",
    "    content = tf.io.read_file(path)\n",
    "    return content, target\n",
    "\n",
    "def vectorize_text(text, target):\n",
    "    text = vectorize_layer(text)\n",
    "    return text, target\n",
    "\n",
    "train_dataset = tf.data.Dataset.from_tensor_slices((train_data, train_target))\n",
    "validation_dataset = tf.data.Dataset.from_tensor_slices((valid_data, valid_target))\n",
    "\n",
    "train_dataset = train_dataset.map(get_text_with_target, num_parallel_calls=AUTOTUNE)\n",
    "vectorize_layer.adapt(train_dataset.map(lambda t, l: t, num_parallel_calls=AUTOTUNE))\n",
    "train_dataset = train_dataset.map(vectorize_text, num_parallel_calls=AUTOTUNE)\n",
    "\n",
    "train_dataset = train_dataset.shuffle(BUFFER_SIZE).batch(BATCH_SIZE, num_parallel_calls=AUTOTUNE, drop_remainder=True).prefetch(AUTOTUNE)\n",
    "validation_dataset = validation_dataset.map(get_text_with_target, num_parallel_calls=AUTOTUNE).map(vectorize_text, num_parallel_calls=AUTOTUNE).cache().batch(BATCH_SIZE, num_parallel_calls=AUTOTUNE).prefetch(AUTOTUNE)"
   ]
  },
  {
   "cell_type": "code",
   "execution_count": 9,
   "metadata": {
    "id": "SDRI_s_tX1Hk"
   },
   "outputs": [],
   "source": [
    "embedding_dim = 16\n",
    "model = tf.keras.Sequential([\n",
    "  layers.Embedding(max_feature, embedding_dim),\n",
    "  layers.GlobalAveragePooling1D(),\n",
    "  layers.Dense(100),\n",
    "  layers.Dropout(0.5),\n",
    "  layers.Dense(6, activation='softmax')])"
   ]
  },
  {
   "cell_type": "code",
   "execution_count": 10,
   "metadata": {
    "colab": {
     "base_uri": "https://localhost:8080/"
    },
    "id": "6EFEc9O-HwSU",
    "outputId": "07d15b70-b1fd-4977-d3c9-f8339bb6db11"
   },
   "outputs": [
    {
     "name": "stdout",
     "output_type": "stream",
     "text": [
      "Model: \"sequential\"\n",
      "_________________________________________________________________\n",
      " Layer (type)                Output Shape              Param #   \n",
      "=================================================================\n",
      " embedding (Embedding)       (None, None, 16)          320000    \n",
      "                                                                 \n",
      " global_average_pooling1d (  (None, 16)                0         \n",
      " GlobalAveragePooling1D)                                         \n",
      "                                                                 \n",
      " dense (Dense)               (None, 100)               1700      \n",
      "                                                                 \n",
      " dropout (Dropout)           (None, 100)               0         \n",
      "                                                                 \n",
      " dense_1 (Dense)             (None, 6)                 606       \n",
      "                                                                 \n",
      "=================================================================\n",
      "Total params: 322306 (1.23 MB)\n",
      "Trainable params: 322306 (1.23 MB)\n",
      "Non-trainable params: 0 (0.00 Byte)\n",
      "_________________________________________________________________\n"
     ]
    }
   ],
   "source": [
    "model.summary()"
   ]
  },
  {
   "cell_type": "code",
   "execution_count": 11,
   "metadata": {
    "id": "-c76RvSzsMnX"
   },
   "outputs": [],
   "source": [
    "model.compile(loss=CategoricalCrossentropy(),\n",
    "              optimizer=tf.keras.optimizers.Adam(learning_rate=0.01),\n",
    "              metrics=[\n",
    "                  tf.keras.metrics.CategoricalAccuracy(name='accuracy'),\n",
    "                  tf.keras.metrics.Precision(name='precision'),\n",
    "                  tf.keras.metrics.Recall(name='recall'),\n",
    "                  tf.keras.metrics.F1Score(name='f1-score')\n",
    "              ])"
   ]
  },
  {
   "cell_type": "code",
   "execution_count": 12,
   "metadata": {
    "id": "GH4_2ZGJsa_X"
   },
   "outputs": [
    {
     "name": "stdout",
     "output_type": "stream",
     "text": [
      "Class (0.0, 0.0, 0.0, 1.0, 0.0, 0.0): 4980 samples\n",
      "Class (0.0, 1.0, 0.0, 0.0, 0.0, 0.0): 17432 samples\n",
      "Class (0.0, 0.0, 1.0, 0.0, 0.0, 0.0): 5136 samples\n",
      "Class (0.0, 0.0, 0.0, 0.0, 0.0, 1.0): 410 samples\n",
      "Class (0.0, 0.0, 0.0, 0.0, 1.0, 0.0): 1505 samples\n",
      "Class (1.0, 0.0, 0.0, 0.0, 0.0, 0.0): 297 samples\n",
      "Class 0 weight: 5.975903614457831\n",
      "Class 1 weight: 1.7072051399724644\n",
      "Class 2 weight: 5.794392523364486\n",
      "Class 3 weight: 72.58536585365853\n",
      "Class 4 weight: 19.774086378737543\n",
      "Class 5 weight: 100.20202020202021\n"
     ]
    }
   ],
   "source": [
    "train_iterator = train_dataset.as_numpy_iterator()\n",
    "\n",
    "class_counts = {}\n",
    "class_indices = {}\n",
    "\n",
    "class_index = 0\n",
    "for data, labels in train_iterator:\n",
    "    for label in labels:\n",
    "        label_tuple = tuple(label)\n",
    "        if label_tuple not in class_counts:\n",
    "            class_counts[label_tuple] = 1\n",
    "            class_indices[label_tuple] = class_index\n",
    "            class_index += 1\n",
    "        else:\n",
    "            class_counts[label_tuple] += 1\n",
    "\n",
    "total_samples = sum(class_counts.values())\n",
    "\n",
    "class_weights = {\n",
    "    class_indices[label]: total_samples / count\n",
    "    for label, count in class_counts.items()\n",
    "}\n",
    "\n",
    "for label, count in class_counts.items():\n",
    "    print(f\"Class {label}: {count} samples\")\n",
    "\n",
    "for class_index, weight in class_weights.items():\n",
    "    print(f\"Class {class_index} weight: {weight}\")"
   ]
  },
  {
   "cell_type": "code",
   "execution_count": 13,
   "metadata": {
    "id": "SCIg_T50wOCU"
   },
   "outputs": [
    {
     "name": "stdout",
     "output_type": "stream",
     "text": [
      "Epoch 1/20\n"
     ]
    },
    {
     "name": "stderr",
     "output_type": "stream",
     "text": [
      "WARNING: All log messages before absl::InitializeLog() is called are written to STDERR\n",
      "I0000 00:00:1715080761.716012   72209 device_compiler.h:186] Compiled cluster using XLA!  This line is logged at most once for the lifetime of the process.\n"
     ]
    },
    {
     "name": "stdout",
     "output_type": "stream",
     "text": [
      "465/465 [==============================] - 37s 72ms/step - loss: 6.0719 - accuracy: 0.5966 - precision: 0.7818 - recall: 0.4750 - f1-score: 0.4185 - val_loss: 0.3146 - val_accuracy: 0.9018 - val_precision: 0.9415 - val_recall: 0.8764 - val_f1-score: 0.6456\n",
      "Epoch 2/20\n",
      "465/465 [==============================] - 11s 22ms/step - loss: 0.9722 - accuracy: 0.9559 - precision: 0.9672 - recall: 0.9466 - f1-score: 0.8039 - val_loss: 0.1510 - val_accuracy: 0.9569 - val_precision: 0.9652 - val_recall: 0.9508 - val_f1-score: 0.8321\n",
      "Epoch 3/20\n",
      "465/465 [==============================] - 7s 13ms/step - loss: 0.4180 - accuracy: 0.9805 - precision: 0.9840 - recall: 0.9779 - f1-score: 0.9216 - val_loss: 0.1968 - val_accuracy: 0.9487 - val_precision: 0.9552 - val_recall: 0.9437 - val_f1-score: 0.8342\n",
      "Epoch 4/20\n",
      "465/465 [==============================] - 5s 10ms/step - loss: 0.5546 - accuracy: 0.9767 - precision: 0.9797 - recall: 0.9746 - f1-score: 0.9242 - val_loss: 0.1269 - val_accuracy: 0.9724 - val_precision: 0.9748 - val_recall: 0.9706 - val_f1-score: 0.8913\n",
      "Epoch 5/20\n",
      "465/465 [==============================] - 4s 8ms/step - loss: 0.1345 - accuracy: 0.9935 - precision: 0.9945 - recall: 0.9927 - f1-score: 0.9724 - val_loss: 0.1063 - val_accuracy: 0.9792 - val_precision: 0.9811 - val_recall: 0.9784 - val_f1-score: 0.9102\n",
      "Epoch 6/20\n",
      "465/465 [==============================] - 4s 7ms/step - loss: 0.1515 - accuracy: 0.9929 - precision: 0.9938 - recall: 0.9921 - f1-score: 0.9718 - val_loss: 0.1215 - val_accuracy: 0.9786 - val_precision: 0.9797 - val_recall: 0.9782 - val_f1-score: 0.8990\n",
      "Epoch 7/20\n",
      "465/465 [==============================] - 3s 7ms/step - loss: 0.0736 - accuracy: 0.9960 - precision: 0.9962 - recall: 0.9956 - f1-score: 0.9866 - val_loss: 0.1382 - val_accuracy: 0.9763 - val_precision: 0.9770 - val_recall: 0.9757 - val_f1-score: 0.9062\n",
      "Epoch 8/20\n",
      "465/465 [==============================] - 3s 7ms/step - loss: 0.2115 - accuracy: 0.9891 - precision: 0.9899 - recall: 0.9888 - f1-score: 0.9733 - val_loss: 0.3846 - val_accuracy: 0.9281 - val_precision: 0.9320 - val_recall: 0.9253 - val_f1-score: 0.7949\n",
      "Epoch 9/20\n",
      "465/465 [==============================] - 3s 5ms/step - loss: 0.3019 - accuracy: 0.9860 - precision: 0.9868 - recall: 0.9857 - f1-score: 0.9496 - val_loss: 0.2326 - val_accuracy: 0.9637 - val_precision: 0.9664 - val_recall: 0.9632 - val_f1-score: 0.8687\n",
      "Epoch 10/20\n",
      "465/465 [==============================] - 2s 4ms/step - loss: 0.2223 - accuracy: 0.9917 - precision: 0.9922 - recall: 0.9913 - f1-score: 0.9721 - val_loss: 0.1934 - val_accuracy: 0.9698 - val_precision: 0.9705 - val_recall: 0.9694 - val_f1-score: 0.8791\n",
      "Epoch 11/20\n",
      "465/465 [==============================] - 2s 5ms/step - loss: 0.1975 - accuracy: 0.9920 - precision: 0.9924 - recall: 0.9918 - f1-score: 0.9779 - val_loss: 0.1997 - val_accuracy: 0.9727 - val_precision: 0.9734 - val_recall: 0.9724 - val_f1-score: 0.8973\n",
      "Epoch 12/20\n",
      "465/465 [==============================] - 2s 5ms/step - loss: 0.6798 - accuracy: 0.9865 - precision: 0.9871 - recall: 0.9862 - f1-score: 0.9549 - val_loss: 0.1808 - val_accuracy: 0.9784 - val_precision: 0.9789 - val_recall: 0.9781 - val_f1-score: 0.9078\n",
      "Epoch 13/20\n",
      "465/465 [==============================] - 2s 4ms/step - loss: 0.1985 - accuracy: 0.9920 - precision: 0.9922 - recall: 0.9917 - f1-score: 0.9772 - val_loss: 0.5098 - val_accuracy: 0.9352 - val_precision: 0.9355 - val_recall: 0.9352 - val_f1-score: 0.8581\n",
      "Epoch 14/20\n",
      "465/465 [==============================] - 2s 4ms/step - loss: 0.0825 - accuracy: 0.9962 - precision: 0.9963 - recall: 0.9962 - f1-score: 0.9889 - val_loss: 0.1718 - val_accuracy: 0.9802 - val_precision: 0.9808 - val_recall: 0.9800 - val_f1-score: 0.9099\n",
      "Epoch 15/20\n",
      "465/465 [==============================] - 2s 4ms/step - loss: 0.1855 - accuracy: 0.9942 - precision: 0.9945 - recall: 0.9940 - f1-score: 0.9827 - val_loss: 0.2695 - val_accuracy: 0.9714 - val_precision: 0.9722 - val_recall: 0.9712 - val_f1-score: 0.8695\n",
      "Epoch 16/20\n",
      "465/465 [==============================] - 2s 3ms/step - loss: 0.1652 - accuracy: 0.9952 - precision: 0.9954 - recall: 0.9952 - f1-score: 0.9879 - val_loss: 0.2126 - val_accuracy: 0.9785 - val_precision: 0.9786 - val_recall: 0.9784 - val_f1-score: 0.9067\n",
      "Epoch 17/20\n",
      "465/465 [==============================] - 2s 3ms/step - loss: 0.2761 - accuracy: 0.9918 - precision: 0.9922 - recall: 0.9917 - f1-score: 0.9725 - val_loss: 0.2700 - val_accuracy: 0.9749 - val_precision: 0.9753 - val_recall: 0.9747 - val_f1-score: 0.8623\n",
      "Epoch 18/20\n",
      "465/465 [==============================] - 2s 4ms/step - loss: 0.2507 - accuracy: 0.9931 - precision: 0.9935 - recall: 0.9930 - f1-score: 0.9733 - val_loss: 0.2042 - val_accuracy: 0.9782 - val_precision: 0.9786 - val_recall: 0.9781 - val_f1-score: 0.9093\n",
      "Epoch 19/20\n",
      "465/465 [==============================] - 2s 4ms/step - loss: 0.1757 - accuracy: 0.9929 - precision: 0.9931 - recall: 0.9927 - f1-score: 0.9801 - val_loss: 0.2353 - val_accuracy: 0.9762 - val_precision: 0.9766 - val_recall: 0.9759 - val_f1-score: 0.9054\n",
      "Epoch 20/20\n",
      "465/465 [==============================] - 2s 4ms/step - loss: 0.1174 - accuracy: 0.9956 - precision: 0.9956 - recall: 0.9955 - f1-score: 0.9907 - val_loss: 0.2440 - val_accuracy: 0.9766 - val_precision: 0.9773 - val_recall: 0.9763 - val_f1-score: 0.9130\n"
     ]
    }
   ],
   "source": [
    "history = model.fit(train_dataset, epochs=20, validation_data=validation_dataset, class_weight=class_weights)"
   ]
  },
  {
   "cell_type": "code",
   "execution_count": 14,
   "metadata": {
    "colab": {
     "base_uri": "https://localhost:8080/"
    },
    "id": "-YcvZsdvWfDf",
    "outputId": "db760bcf-a651-40b7-b236-1a72d4574e37"
   },
   "outputs": [
    {
     "data": {
      "text/plain": [
       "dict_keys(['loss', 'accuracy', 'precision', 'recall', 'f1-score', 'val_loss', 'val_accuracy', 'val_precision', 'val_recall', 'val_f1-score'])"
      ]
     },
     "execution_count": 14,
     "metadata": {},
     "output_type": "execute_result"
    }
   ],
   "source": [
    "history_dict = history.history\n",
    "history_dict.keys()"
   ]
  },
  {
   "cell_type": "code",
   "execution_count": 15,
   "metadata": {
    "colab": {
     "base_uri": "https://localhost:8080/",
     "height": 472
    },
    "id": "2SEMeQ5YXs8z",
    "outputId": "7f36033a-a652-4b61-e613-d6aadc72ed7a"
   },
   "outputs": [
    {
     "data": {
      "image/png": "[encoded data removed]",
      "text/plain": [
       "<Figure size 640x480 with 1 Axes>"
      ]
     },
     "metadata": {},
     "output_type": "display_data"
    }
   ],
   "source": [
    "acc = history_dict['accuracy']\n",
    "val_acc = history_dict['val_accuracy']\n",
    "loss = history_dict['loss']\n",
    "val_loss = history_dict['val_loss']\n",
    "\n",
    "epochs = range(1, len(acc) + 1)\n",
    "\n",
    "plt.plot(epochs, loss, 'bo', label='Training loss')\n",
    "plt.plot(epochs, val_loss, 'b', label='Validation loss')\n",
    "plt.title('Training and validation loss')\n",
    "plt.xlabel('Epochs')\n",
    "plt.ylabel('Loss')\n",
    "plt.legend()\n",
    "\n",
    "plt.show()"
   ]
  },
  {
   "cell_type": "code",
   "execution_count": 16,
   "metadata": {
    "colab": {
     "base_uri": "https://localhost:8080/",
     "height": 472
    },
    "id": "Z3PJemLPXwz_",
    "outputId": "36dfcdb8-7ad9-434c-a344-63d946598455"
   },
   "outputs": [
    {
     "data": {
      "image/png": "[encoded data removed]",
      "text/plain": [
       "<Figure size 640x480 with 1 Axes>"
      ]
     },
     "metadata": {},
     "output_type": "display_data"
    }
   ],
   "source": [
    "plt.plot(epochs, acc, 'bo', label='Training acc')\n",
    "plt.plot(epochs, val_acc, 'b', label='Validation acc')\n",
    "plt.title('Training and validation accuracy')\n",
    "plt.xlabel('Epochs')\n",
    "plt.ylabel('Accuracy')\n",
    "plt.legend(loc='lower right')\n",
    "\n",
    "plt.show()"
   ]
  },
  {
   "cell_type": "code",
   "execution_count": 32,
   "metadata": {},
   "outputs": [
    {
     "name": "stdout",
     "output_type": "stream",
     "text": [
      "117/117 [==============================] - 0s 727us/step\n",
      "              precision    recall  f1-score   support\n",
      "\n",
      "           0       0.85      0.72      0.78        79\n",
      "           1       0.99      0.99      0.99      4289\n",
      "           2       0.96      0.96      0.96      1296\n",
      "           3       0.97      1.00      0.98      1282\n",
      "           4       0.96      0.94      0.95       387\n",
      "           5       0.75      0.89      0.81       108\n",
      "\n",
      "    accuracy                           0.98      7441\n",
      "   macro avg       0.91      0.92      0.91      7441\n",
      "weighted avg       0.98      0.98      0.98      7441\n",
      "\n"
     ]
    }
   ],
   "source": [
    "predictions = model.predict(validation_dataset) \n",
    "predicted_classes = tf.math.argmax(predictions, axis=-1)\n",
    "from sklearn.metrics import classification_report \n",
    "report = classification_report(valid_target, predicted_classes) \n",
    "\n",
    "print(report)"
   ]
  },
  {
   "cell_type": "code",
   "execution_count": null,
   "metadata": {},
   "outputs": [],
   "source": []
  }
 ],
 "metadata": {
  "accelerator": "GPU",
  "colab": {
   "gpuType": "T4",
   "name": "text_classification.ipynb",
   "provenance": []
  },
  "kernelspec": {
   "display_name": "Python 3 (ipykernel)",
   "language": "python",
   "name": "python3"
  },
  "language_info": {
   "codemirror_mode": {
    "name": "ipython",
    "version": 3
   },
   "file_extension": ".py",
   "mimetype": "text/x-python",
   "name": "python",
   "nbconvert_exporter": "python",
   "pygments_lexer": "ipython3",
   "version": "3.11.5"
  }
 },
 "nbformat": 4,
 "nbformat_minor": 4
}
